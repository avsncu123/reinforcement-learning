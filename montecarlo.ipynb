{
  "nbformat": 4,
  "nbformat_minor": 0,
  "metadata": {
    "colab": {
      "provenance": [],
      "authorship_tag": "ABX9TyM/oioANEkrxYpb01ZyoLi1",
      "include_colab_link": true
    },
    "kernelspec": {
      "name": "python3",
      "display_name": "Python 3"
    },
    "language_info": {
      "name": "python"
    }
  },
  "cells": [
    {
      "cell_type": "markdown",
      "metadata": {
        "id": "view-in-github",
        "colab_type": "text"
      },
      "source": [
        "<a href=\"https://colab.research.google.com/github/avsncu123/reinforcement-learning/blob/main/montecarlo.ipynb\" target=\"_parent\"><img src=\"https://colab.research.google.com/assets/colab-badge.svg\" alt=\"Open In Colab\"/></a>"
      ]
    },
    {
      "cell_type": "code",
      "execution_count": 6,
      "metadata": {
        "colab": {
          "base_uri": "https://localhost:8080/",
          "height": 140
        },
        "id": "g3ZIdkCwDavm",
        "outputId": "21a4a902-c22b-4975-8ee0-7838c102ad12"
      },
      "outputs": [
        {
          "output_type": "error",
          "ename": "IndentationError",
          "evalue": "ignored",
          "traceback": [
            "\u001b[0;36m  File \u001b[0;32m\"<tokenize>\"\u001b[0;36m, line \u001b[0;32m20\u001b[0m\n\u001b[0;31m    def create_state_action_dictionary(env, policy):\u001b[0m\n\u001b[0m    ^\u001b[0m\n\u001b[0;31mIndentationError\u001b[0m\u001b[0;31m:\u001b[0m unindent does not match any outer indentation level\n"
          ]
        }
      ],
      "source": [
        "import gym\n",
        "import numpy as np\n",
        "import operator\n",
        "from IPython.display import clear_output\n",
        "from time import sleep\n",
        "import random\n",
        "import itertools\n",
        "import tqdm\n",
        "\n",
        "tqdm.monitor_interval = 0\n",
        "def create_random_policy(env):\n",
        "     policy = {}\n",
        "     for key in range(0, env.observation_space.n):\n",
        "          current_end = 0\n",
        "          p = {}\n",
        "          for action in range(0, env.action_space.n):\n",
        "               p[action] = 1 / env.action_space.n\n",
        "          policy[key] = p\n",
        "     return policy\n",
        " def create_state_action_dictionary(env, policy):\n",
        "    Q = {}\n",
        "    for key in policy.keys():\n",
        "         Q[key] = {a: 0.0 for a in range(0, env.action_space.n)}\n",
        "    return Q\n",
        "def run_game(env, policy, display=True):\n",
        "     env.reset()\n",
        "     episode = []\n",
        "     finished = False\n",
        "\n",
        "     while not finished:\n",
        "          s = env.env.s\n",
        "          if display:\n",
        "               clear_output(True)\n",
        "               env.render()\n",
        "               sleep(1)\n",
        "\n",
        "          timestep = []\n",
        "          timestep.append(s)\n",
        "          n = random.uniform(0, sum(policy[s].values()))\n",
        "          top_range = 0\n",
        "          for prob in policy[s].items():\n",
        "                top_range += prob[1]\n",
        "                if n < top_range:\n",
        "                      action = prob[0]\n",
        "                      break\n",
        "          state, reward, finished, info = env.step(action)\n",
        "          timestep.append(action)\n",
        "          timestep.append(reward)\n",
        "\n",
        "          episode.append(timestep)\n",
        "\n",
        "     if display:\n",
        "          clear_output(True)\n",
        "          env.render()\n",
        "          sleep(1)\n",
        "     return episode\n",
        " def test_policy(policy, env):\n",
        "      wins = 0\n",
        "      r = 100\n",
        "      for i in range(r):\n",
        "            w = run_game(env, policy, display=False)[-1][-1]\n",
        "            if w == 1:\n",
        "                  wins += 1\n",
        "      return wins / r\n",
        "  def monte_carlo_e_soft(env, episodes=100, policy=None, epsilon=0.01):\n",
        "    if not policy:\n",
        "        policy = create_random_policy(env)  # Create an empty dictionary to store state action values\n",
        "    Q = create_state_action_dictionary(env, policy) # Empty dictionary for storing rewards for each state-action pair\n",
        "    returns = {} # 3.\n",
        "\n",
        "    for _ in range(episodes): # Looping through episodes\n",
        "        G = 0 # Store cumulative reward in G (initialized at 0)\n",
        "        episode = run_game(env=env, policy=policy, display=False) # Store state, action and value respectively\n",
        "\n",
        "        # for loop through reversed indices of episode array.\n",
        "        # The logic behind it being reversed is that the eventual reward would be at the end.\n",
        "        # So we have to go back from the last timestep to the first one propagating result from the future.\n",
        "\n",
        "        for i in reversed(range(0, len(episode))):\n",
        "            s_t, a_t, r_t = episode[i]\n",
        "            state_action = (s_t, a_t)\n",
        "            G += r_t # Increment total reward by reward on current timestep\n",
        "\n",
        "            if not state_action in [(x[0], x[1]) for x in episode[0:i]]: #\n",
        "                if returns.get(state_action):\n",
        "                    returns[state_action].append(G)\n",
        "                else:\n",
        "                    returns[state_action] = [G]\n",
        "\n",
        "                Q[s_t][a_t] = sum(returns[state_action]) / len(returns[state_action]) # Average reward across episodes\n",
        "\n",
        "                Q_list = list(map(lambda x: x[1], Q[s_t].items())) # Finding the action with maximum value\n",
        "                indices = [i for i, x in enumerate(Q_list) if x == max(Q_list)]\n",
        "                max_Q = random.choice(indices)\n",
        "\n",
        "                A_star = max_Q # 14.\n",
        "\n",
        "                for a in policy[s_t].items(): # Update action probability for s_t in policy\n",
        "                    if a[0] == A_star:\n",
        "                        policy[s_t][a[0]] = 1 - epsilon + (epsilon / abs(sum(policy[s_t].values())))\n",
        "                    else:\n",
        "                        policy[s_t][a[0]] = (epsilon / abs(sum(policy[s_t].values())))\n",
        "\n",
        "    return policy\n",
        "env=gym.make('FrozenLake8x8-v1')\n",
        "policy = monte_carlo_e_soft(env, episodes=50000)\n",
        "test_policy(policy, env)\n"
      ]
    },
    {
      "cell_type": "code",
      "source": [],
      "metadata": {
        "id": "XKCA05fPDbfD"
      },
      "execution_count": null,
      "outputs": []
    }
  ]
}